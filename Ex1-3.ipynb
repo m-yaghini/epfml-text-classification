{
 "cells": [
  {
   "cell_type": "code",
   "execution_count": 13,
   "metadata": {
    "collapsed": true
   },
   "outputs": [],
   "source": [
    "import pandas as pd\n",
    "import numpy as np\n",
    "from IPython.core.interactiveshell import InteractiveShell\n",
    "InteractiveShell.ast_node_interactivity = \"all\"\n",
    "from collections import Counter\n",
    "import pickle as pkl\n",
    "import datetime\n"
   ]
  },
  {
   "cell_type": "code",
   "execution_count": 3,
   "metadata": {
    "collapsed": false
   },
   "outputs": [],
   "source": [
    "dedis = pd.read_csv('../files/dedis-3.csv', sep=',', names=['email', 'movie', 'date', 'stars'],\n",
    "                    skipinitialspace=True)\n",
    "imdb = pd.read_csv('../files/imdb-3.csv', sep=',', names=['email', 'movie', 'date', 'stars'], skipinitialspace=True)"
   ]
  },
  {
   "cell_type": "markdown",
   "metadata": {},
   "source": [
    "# Finding my email hash"
   ]
  },
  {
   "cell_type": "code",
   "execution_count": 92,
   "metadata": {
    "collapsed": false
   },
   "outputs": [],
   "source": [
    "# def possible_dates(input_date, stars):\n",
    "#     dates = []\n",
    "#     for delta in range(-13,14,1):\n",
    "#         new_date = (datetime.datetime.strptime(input_date, '%d/%m/%y') + datetime.timedelta(days=delta)).strftime('%d/%m/%y')\n",
    "#         weight = 14 - abs(delta)\n",
    "#         dates.append((new_date, stars, weight))\n",
    "#     return dates\n",
    "\n",
    "def possible_dates(input_date):\n",
    "    dates = []\n",
    "    for delta in range(-13,14,1):\n",
    "        new_date = (datetime.datetime.strptime(input_date, '%d/%m/%y') + datetime.timedelta(days=delta)).strftime('%d/%m/%y')\n",
    "        dates.append(new_date)\n",
    "    return dates\n",
    "\n",
    "def possible_dates_weights(input_date):\n",
    "    weights = []\n",
    "    for delta in range(-13,14,1):\n",
    "        weights.append(14 - abs(delta))\n",
    "    return weights\n",
    "\n",
    "def dist_to_original_date(date, original_date):\n",
    "    d2 = datetime.datetime.strptime(date, '%d/%m/%y')\n",
    "    d1 = datetime.datetime.strptime(original_date, '%d/%m/%y')\n",
    "    diff = abs((d2 - d1).days)\n",
    "    return diff"
   ]
  },
  {
   "cell_type": "code",
   "execution_count": 93,
   "metadata": {
    "collapsed": false
   },
   "outputs": [
    {
     "data": {
      "text/plain": [
       "9"
      ]
     },
     "execution_count": 93,
     "metadata": {},
     "output_type": "execute_result"
    }
   ],
   "source": [
    "dist_to_original_date('01/09/08', '10/09/08')"
   ]
  },
  {
   "cell_type": "code",
   "execution_count": 137,
   "metadata": {
    "collapsed": false,
    "scrolled": true
   },
   "outputs": [
    {
     "data": {
      "text/html": [
       "<div>\n",
       "<table border=\"1\" class=\"dataframe\">\n",
       "  <thead>\n",
       "    <tr style=\"text-align: right;\">\n",
       "      <th></th>\n",
       "      <th>index</th>\n",
       "      <th>email</th>\n",
       "      <th>movie</th>\n",
       "      <th>date</th>\n",
       "      <th>stars</th>\n",
       "      <th>dist</th>\n",
       "    </tr>\n",
       "  </thead>\n",
       "  <tbody>\n",
       "    <tr>\n",
       "      <th>0</th>\n",
       "      <td>374</td>\n",
       "      <td>9b18194fed64458396f54d2191adc7cf881709351ec02b...</td>\n",
       "      <td>ac2d5896f8fe48d65558105f9b3ef885c402e5ce8aae89...</td>\n",
       "      <td>01/09/08</td>\n",
       "      <td>3</td>\n",
       "      <td>0</td>\n",
       "    </tr>\n",
       "    <tr>\n",
       "      <th>1</th>\n",
       "      <td>894</td>\n",
       "      <td>3039e0120d7b7f568eaf794198f0a6bb3bf222f8b5138e...</td>\n",
       "      <td>e1baf949a8283986e822510050c23c21015e4c35617bd0...</td>\n",
       "      <td>02/09/08</td>\n",
       "      <td>3</td>\n",
       "      <td>1</td>\n",
       "    </tr>\n",
       "    <tr>\n",
       "      <th>2</th>\n",
       "      <td>895</td>\n",
       "      <td>d196ac8e17d20bad5c7f96bd6e947a4906ddf746e6a424...</td>\n",
       "      <td>c372501e5ec535eb180c5e853da36348d72704356ac710...</td>\n",
       "      <td>02/09/08</td>\n",
       "      <td>3</td>\n",
       "      <td>1</td>\n",
       "    </tr>\n",
       "  </tbody>\n",
       "</table>\n",
       "</div>"
      ],
      "text/plain": [
       "   index                                              email  \\\n",
       "0    374  9b18194fed64458396f54d2191adc7cf881709351ec02b...   \n",
       "1    894  3039e0120d7b7f568eaf794198f0a6bb3bf222f8b5138e...   \n",
       "2    895  d196ac8e17d20bad5c7f96bd6e947a4906ddf746e6a424...   \n",
       "\n",
       "                                               movie      date  stars  dist  \n",
       "0  ac2d5896f8fe48d65558105f9b3ef885c402e5ce8aae89...  01/09/08      3     0  \n",
       "1  e1baf949a8283986e822510050c23c21015e4c35617bd0...  02/09/08      3     1  \n",
       "2  c372501e5ec535eb180c5e853da36348d72704356ac710...  02/09/08      3     1  "
      ]
     },
     "execution_count": 137,
     "metadata": {},
     "output_type": "execute_result"
    }
   ],
   "source": [
    "DF_correct_date = dedis[dedis['date'].isin(possible_dates('01/09/08'))]\n",
    "DF_correct_date_stars = DF_correct_date.loc[DF_correct_date['stars']==3]\n",
    "found_dates = DF_correct_date_stars['date'].values.tolist()\n",
    "# date_tuples = list(zip(found_dates, len(found_dates)*['01/09/08']))\n",
    "otiginal_date_repeated = len(found_dates)*['01/09/08']\n",
    "\n",
    "distance_to_original_date = list(map(dist_to_original_date, found_dates, otiginal_date_repeated))\n",
    "# distance_to_original_date\n",
    "DF_correct_date_stars.assign(dist=distance_to_original_date).sort_values(by='dist', ascending=True).reset_index().loc[0:2,:]"
   ]
  },
  {
   "cell_type": "code",
   "execution_count": 150,
   "metadata": {
    "collapsed": false
   },
   "outputs": [],
   "source": [
    "def find_matches_in_dedis(date, stars, slack):\n",
    "    DF_correct_date = dedis[dedis['date'].isin(possible_dates(date))]\n",
    "    DF_correct_date_stars = DF_correct_date.loc[DF_correct_date['stars']==stars]\n",
    "    found_dates = DF_correct_date_stars['date'].values.tolist()\n",
    "    otiginal_date_repeated = len(found_dates)*[date]\n",
    "\n",
    "    distance_to_original_date = list(map(dist_to_original_date, found_dates, otiginal_date_repeated))\n",
    "    return DF_correct_date_stars.assign(dist=distance_to_original_date).sort_values(by='dist', ascending=True).reset_index().loc[0:slack,:]"
   ]
  },
  {
   "cell_type": "code",
   "execution_count": 180,
   "metadata": {
    "collapsed": false,
    "scrolled": true
   },
   "outputs": [
    {
     "data": {
      "text/plain": [
       "'63084100821c57736c52120612923610b5135f77651345d8cb5626a6936f4de2'"
      ]
     },
     "execution_count": 180,
     "metadata": {},
     "output_type": "execute_result"
    }
   ],
   "source": [
    "# find_matches_in_dedis('01/09/08', 3, 2)\n",
    "# find_matches_in_dedis('02/05/02', 3, 2)\n",
    "# find_matches_in_dedis('02/09/01', 2, 2)\n",
    "# find_matches_in_dedis('03/06/04', 3, 2)\n",
    "\n",
    "my_dates = (imdb.loc[imdb['email'] == 'mohammad.yaghini@epfl.ch'])['date'].values.tolist()\n",
    "my_stars = (imdb.loc[imdb['email'] == 'mohammad.yaghini@epfl.ch'])['stars'].values.tolist()\n",
    "my_slack = [2]*len(my_dates)\n",
    "\n",
    "list_of_match_DFs = list(map(find_matches_in_dedis, my_dates, my_stars, my_slack))\n",
    "\n",
    "my_possible_hashes = []\n",
    "for DF in list_of_match_DFs:\n",
    "    my_possible_hashes += DF['email'].values.tolist()\n",
    "    \n",
    "counted = Counter(my_possible_hashes)\n",
    "counted_DF = pd.DataFrame(list(zip(list(counted.keys()), list(counted.values()))), columns=['hash', 'freq']).sort_values(by='freq', ascending = False).reset_index()\n",
    "my_definite_hash = counted_DF.loc[0]['hash']\n",
    "my_definite_hash"
   ]
  },
  {
   "cell_type": "markdown",
   "metadata": {},
   "source": [
    "# Finding my movies"
   ]
  },
  {
   "cell_type": "code",
   "execution_count": 209,
   "metadata": {
    "collapsed": false
   },
   "outputs": [],
   "source": [
    "list_of_movies = list(set(imdb['movie'].values.tolist()))\n",
    "\n",
    "movie2hash = {}\n",
    "hash2movie = {}\n",
    "for movie in list_of_movies:\n",
    "#     movie = list_of_movies[2]\n",
    "#     movie\n",
    "    movie_dates = (imdb.loc[imdb['movie'] == movie])['date'].values.tolist()\n",
    "    movie_stars = (imdb.loc[imdb['movie'] == movie])['stars'].values.tolist()\n",
    "    movie_slack = [3]*len(movie_dates)\n",
    "\n",
    "    list_of_movie_match_DFs = list(map(find_matches_in_dedis, movie_dates, movie_stars, movie_slack))\n",
    "    # list_of_movie_match_DFs[0]\n",
    "    movie_possible_hashes = []\n",
    "    for DF in list_of_movie_match_DFs:\n",
    "        movie_possible_hashes += DF['movie'].values.tolist()\n",
    "\n",
    "    movie_counted = Counter(movie_possible_hashes)\n",
    "    movie_counted_DF = pd.DataFrame(list(zip(list(movie_counted.keys()), list(movie_counted.values()))), columns=['hash', 'freq']).sort_values(by='freq', ascending = False).reset_index()\n",
    "#     movie_counted_DF\n",
    "    movie_definite_hash = movie_counted_DF.loc[0]['hash']\n",
    "#     movie_definite_hash\n",
    "    movie2hash[movie] = movie_definite_hash\n",
    "    hash2movie[movie_definite_hash] = movie\n",
    "    "
   ]
  },
  {
   "cell_type": "code",
   "execution_count": 210,
   "metadata": {
    "collapsed": false
   },
   "outputs": [
    {
     "data": {
      "text/plain": [
       "299"
      ]
     },
     "execution_count": 210,
     "metadata": {},
     "output_type": "execute_result"
    },
    {
     "data": {
      "text/plain": [
       "299"
      ]
     },
     "execution_count": 210,
     "metadata": {},
     "output_type": "execute_result"
    }
   ],
   "source": [
    "len(list(set(dedis['movie'].values.tolist())))\n",
    "len(hash2movie)"
   ]
  },
  {
   "cell_type": "code",
   "execution_count": 212,
   "metadata": {
    "collapsed": false,
    "scrolled": true
   },
   "outputs": [],
   "source": [
    "my_movies_hashed = dedis.loc[dedis['email'] == my_definite_hash]['movie'].values.tolist()\n",
    "with open('ex1_3.txt', 'w') as f:\n",
    "    for hash_ in my_movies_hashed:\n",
    "        print(hash2movie[hash_], file=f)"
   ]
  },
  {
   "cell_type": "code",
   "execution_count": null,
   "metadata": {
    "collapsed": false
   },
   "outputs": [],
   "source": []
  }
 ],
 "metadata": {
  "anaconda-cloud": {},
  "kernelspec": {
   "display_name": "Python [Root]",
   "language": "python",
   "name": "Python [Root]"
  },
  "language_info": {
   "codemirror_mode": {
    "name": "ipython",
    "version": 3
   },
   "file_extension": ".py",
   "mimetype": "text/x-python",
   "name": "python",
   "nbconvert_exporter": "python",
   "pygments_lexer": "ipython3",
   "version": "3.5.2"
  }
 },
 "nbformat": 4,
 "nbformat_minor": 0
}
